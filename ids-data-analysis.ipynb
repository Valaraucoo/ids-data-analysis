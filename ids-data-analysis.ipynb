{
 "cells": [
  {
   "cell_type": "markdown",
   "metadata": {},
   "source": [
    "#### Import potrzebnych bibliotek"
   ]
  },
  {
   "cell_type": "code",
   "execution_count": 1,
   "metadata": {},
   "outputs": [],
   "source": [
    "# for loading data\n",
    "import pandas as pd\n",
    "import numpy as np\n",
    "\n",
    "# visualization\n",
    "import matplotlib.pyplot as plt\n",
    "import seaborn as sns\n",
    "\n",
    "# methods typing\n",
    "from typing import List, Dict"
   ]
  },
  {
   "cell_type": "markdown",
   "metadata": {},
   "source": [
    " "
   ]
  },
  {
   "cell_type": "markdown",
   "metadata": {},
   "source": [
    "#### Funkcje pomocnicze"
   ]
  },
  {
   "cell_type": "code",
   "execution_count": 81,
   "metadata": {},
   "outputs": [],
   "source": [
    "def data_stats(df: pd.DataFrame) -> pd.DataFrame:\n",
    "    data_stats = df.select_dtypes(['float','int', 'int8', 'int16', 'int32', 'int64', 'float16', 'float32'])\n",
    "    data_stats = data_stats.describe()\n",
    "    data_stats = data_stats.transpose()\n",
    "    data_stats['std'] = round(data_stats['std'],2)\n",
    "    data_stats['mean'] = round(data_stats['mean'],2)\n",
    "    data_stats['dtype'] = df.dtypes\n",
    "    return data_stats\n",
    "\n",
    "\n",
    "def display_correlations(df: pd.DataFrame, x: int = 12, y: int = 12) -> plt.figure:\n",
    "    corr = df.corr()\n",
    "\n",
    "    mask = np.zeros_like(corr, dtype=np.bool)\n",
    "    mask[np.triu_indices_from(mask)] = True\n",
    "\n",
    "    f, ax = plt.subplots(figsize=(x, y))\n",
    "    cmap = sns.diverging_palette(220, 10, as_cmap=True)\n",
    "    sns.heatmap(corr, mask=mask,annot=True, cmap=sns.diverging_palette(220, 10, as_cmap=True), vmax=.3, center=0,\n",
    "                square=True, linewidths=.5, cbar_kws={\"shrink\": .5})\n",
    "    \n",
    "\n",
    "def remove_outliers(df: pd.DataFrame, columns: List[str], error_discriminator: float = 1.5) -> pd.DataFrame:\n",
    "    for column in columns:\n",
    "        q1 = df[column].describe()['25%']\n",
    "        q3 = df[column].describe()['75%']\n",
    "        iqr = q3 - q1\n",
    "        df = df[df[column] > q1 - error_discriminator * iqr]\n",
    "        df = df[df[column] < q3 + error_discriminator * iqr]\n",
    "    return df\n",
    "\n",
    "def histogram(df: pd.DataFrame, columns: List[str], height: int = 8, width: int = 12) -> plt.figure:\n",
    "    for column in columns:\n",
    "        plt.figure(figsize=(width,height))\n",
    "        sns.distplot(df[column])\n",
    "        plt.show()"
   ]
  },
  {
   "cell_type": "markdown",
   "metadata": {},
   "source": [
    " "
   ]
  },
  {
   "cell_type": "markdown",
   "metadata": {},
   "source": [
    "### Wczytanie danych"
   ]
  },
  {
   "cell_type": "code",
   "execution_count": 130,
   "metadata": {},
   "outputs": [
    {
     "data": {
      "text/html": [
       "<div>\n",
       "<style scoped>\n",
       "    .dataframe tbody tr th:only-of-type {\n",
       "        vertical-align: middle;\n",
       "    }\n",
       "\n",
       "    .dataframe tbody tr th {\n",
       "        vertical-align: top;\n",
       "    }\n",
       "\n",
       "    .dataframe thead th {\n",
       "        text-align: right;\n",
       "    }\n",
       "</style>\n",
       "<table border=\"1\" class=\"dataframe\">\n",
       "  <thead>\n",
       "    <tr style=\"text-align: right;\">\n",
       "      <th></th>\n",
       "      <th>currSpeed</th>\n",
       "      <th>currTravelTime</th>\n",
       "      <th>date</th>\n",
       "      <th>delay</th>\n",
       "      <th>direction</th>\n",
       "      <th>patternText</th>\n",
       "      <th>routeId</th>\n",
       "      <th>stop</th>\n",
       "      <th>stopName</th>\n",
       "      <th>temp</th>\n",
       "      <th>time</th>\n",
       "      <th>tripId</th>\n",
       "      <th>weather</th>\n",
       "      <th>weekday</th>\n",
       "    </tr>\n",
       "  </thead>\n",
       "  <tbody>\n",
       "    <tr>\n",
       "      <td>0</td>\n",
       "      <td>27.0</td>\n",
       "      <td>101.0</td>\n",
       "      <td>2020-07-20</td>\n",
       "      <td>-64</td>\n",
       "      <td>Kombinat</td>\n",
       "      <td>139</td>\n",
       "      <td>8095257447305839175</td>\n",
       "      <td>2878</td>\n",
       "      <td>Chopina</td>\n",
       "      <td>294.369995</td>\n",
       "      <td>21:18:00</td>\n",
       "      <td>8095261304186695939</td>\n",
       "      <td>Rain</td>\n",
       "      <td>0</td>\n",
       "    </tr>\n",
       "    <tr>\n",
       "      <td>1</td>\n",
       "      <td>30.0</td>\n",
       "      <td>102.0</td>\n",
       "      <td>2020-07-20</td>\n",
       "      <td>-187</td>\n",
       "      <td>Kombinat</td>\n",
       "      <td>139</td>\n",
       "      <td>8095257447305839175</td>\n",
       "      <td>3113</td>\n",
       "      <td>Dobrego Pasterza</td>\n",
       "      <td>294.369995</td>\n",
       "      <td>21:18:00</td>\n",
       "      <td>8095261304188842255</td>\n",
       "      <td>Rain</td>\n",
       "      <td>0</td>\n",
       "    </tr>\n",
       "    <tr>\n",
       "      <td>2</td>\n",
       "      <td>30.0</td>\n",
       "      <td>102.0</td>\n",
       "      <td>2020-07-20</td>\n",
       "      <td>-187</td>\n",
       "      <td>Mydlniki</td>\n",
       "      <td>139</td>\n",
       "      <td>8095257447305839175</td>\n",
       "      <td>3113</td>\n",
       "      <td>Dobrego Pasterza</td>\n",
       "      <td>294.369995</td>\n",
       "      <td>21:18:00</td>\n",
       "      <td>8095261304188940546</td>\n",
       "      <td>Rain</td>\n",
       "      <td>0</td>\n",
       "    </tr>\n",
       "    <tr>\n",
       "      <td>3</td>\n",
       "      <td>39.0</td>\n",
       "      <td>110.0</td>\n",
       "      <td>2020-07-20</td>\n",
       "      <td>-129</td>\n",
       "      <td>Kombinat</td>\n",
       "      <td>139</td>\n",
       "      <td>8095257447305839175</td>\n",
       "      <td>388</td>\n",
       "      <td>Dunikowskiego</td>\n",
       "      <td>294.369995</td>\n",
       "      <td>21:18:00</td>\n",
       "      <td>8095261304186544397</td>\n",
       "      <td>Rain</td>\n",
       "      <td>0</td>\n",
       "    </tr>\n",
       "    <tr>\n",
       "      <td>4</td>\n",
       "      <td>39.0</td>\n",
       "      <td>110.0</td>\n",
       "      <td>2020-07-20</td>\n",
       "      <td>-129</td>\n",
       "      <td>Mydlniki</td>\n",
       "      <td>139</td>\n",
       "      <td>8095257447305839175</td>\n",
       "      <td>388</td>\n",
       "      <td>Dunikowskiego</td>\n",
       "      <td>294.369995</td>\n",
       "      <td>21:18:00</td>\n",
       "      <td>8095261304188293392</td>\n",
       "      <td>Rain</td>\n",
       "      <td>0</td>\n",
       "    </tr>\n",
       "  </tbody>\n",
       "</table>\n",
       "</div>"
      ],
      "text/plain": [
       "   currSpeed  currTravelTime       date  delay direction  patternText  \\\n",
       "0       27.0           101.0 2020-07-20    -64  Kombinat          139   \n",
       "1       30.0           102.0 2020-07-20   -187  Kombinat          139   \n",
       "2       30.0           102.0 2020-07-20   -187  Mydlniki          139   \n",
       "3       39.0           110.0 2020-07-20   -129  Kombinat          139   \n",
       "4       39.0           110.0 2020-07-20   -129  Mydlniki          139   \n",
       "\n",
       "               routeId  stop          stopName        temp      time  \\\n",
       "0  8095257447305839175  2878           Chopina  294.369995  21:18:00   \n",
       "1  8095257447305839175  3113  Dobrego Pasterza  294.369995  21:18:00   \n",
       "2  8095257447305839175  3113  Dobrego Pasterza  294.369995  21:18:00   \n",
       "3  8095257447305839175   388     Dunikowskiego  294.369995  21:18:00   \n",
       "4  8095257447305839175   388     Dunikowskiego  294.369995  21:18:00   \n",
       "\n",
       "                tripId weather  weekday  \n",
       "0  8095261304186695939    Rain        0  \n",
       "1  8095261304188842255    Rain        0  \n",
       "2  8095261304188940546    Rain        0  \n",
       "3  8095261304186544397    Rain        0  \n",
       "4  8095261304188293392    Rain        0  "
      ]
     },
     "execution_count": 130,
     "metadata": {},
     "output_type": "execute_result"
    }
   ],
   "source": [
    "data_raw = pd.read_json(\"/Users/kamil/Desktop/ids-store-export.json\")[\"bus-datav2-139\"]\n",
    "data_without_nans: List[Dict] = []\n",
    "    \n",
    "for record in data_raw:\n",
    "    if type(record) == dict:\n",
    "        data_without_nans.append(record)\n",
    "\n",
    "df = pd.DataFrame(data=data_without_nans)\n",
    "\n",
    "df[\"date\"] = pd.to_datetime(df[\"date\"])\n",
    "df[\"time\"] = pd.to_datetime(df[\"time\"]).dt.time\n",
    "\n",
    "currTravelTime: List[float] = []\n",
    "for record in df[\"currTravelTime\"]:\n",
    "    try:\n",
    "        if record[-1] == \"'\":\n",
    "            record = record[:-1]\n",
    "    except Exception as e:\n",
    "        pass\n",
    "    currTravelTime.append(float(record))\n",
    "df[\"currTravelTime\"] = pd.Series(currTravelTime)\n",
    "\n",
    "df = df.astype({\"currSpeed\": \"float16\", \"currTravelTime\": \"float16\" , \"delay\": \"int16\" ,\n",
    "                \"routeId\": \"int64\", \"stop\": \"int16\", \"temp\": \"float32\", \"tripId\": \"int64\",\n",
    "                \"weekday\": \"int8\", \"patternText\": \"int16\"})\n",
    "\n",
    "import requests\n",
    "\n",
    "BASE_ROUTE_URL = \"http://91.223.13.70/internetservice/services/routeInfo/routeStops?routeId=\"\n",
    "ROUTE_ID_139 = \"8095257447305839175\"\n",
    "\n",
    "data = requests.get(\"http://91.223.13.70/internetservice/services/routeInfo/routeStops?routeId=8095257447305839175\").json()\n",
    "STOPS_MAP: Dict[int,str] = {int(stop.get('number')):stop.get('name') for stop in data['stops']}\n",
    "\n",
    "df['stopName'] = [ STOPS_MAP.get(stop) for stop in df.stop ]\n",
    "df = df[sorted(df.columns)]\n",
    "\n",
    "df.head()"
   ]
  },
  {
   "cell_type": "code",
   "execution_count": 131,
   "metadata": {},
   "outputs": [
    {
     "data": {
      "text/plain": [
       "(31275, 14)"
      ]
     },
     "execution_count": 131,
     "metadata": {},
     "output_type": "execute_result"
    }
   ],
   "source": [
    "df.shape"
   ]
  },
  {
   "cell_type": "markdown",
   "metadata": {},
   "source": [
    " "
   ]
  },
  {
   "cell_type": "code",
   "execution_count": 132,
   "metadata": {},
   "outputs": [
    {
     "data": {
      "text/plain": [
       "currSpeed                float16\n",
       "currTravelTime           float16\n",
       "date              datetime64[ns]\n",
       "delay                      int16\n",
       "direction                 object\n",
       "patternText                int16\n",
       "routeId                    int64\n",
       "stop                       int16\n",
       "stopName                  object\n",
       "temp                     float32\n",
       "time                      object\n",
       "tripId                     int64\n",
       "weather                   object\n",
       "weekday                     int8\n",
       "dtype: object"
      ]
     },
     "execution_count": 132,
     "metadata": {},
     "output_type": "execute_result"
    }
   ],
   "source": [
    "df.dtypes"
   ]
  },
  {
   "cell_type": "markdown",
   "metadata": {},
   "source": [
    " "
   ]
  },
  {
   "cell_type": "markdown",
   "metadata": {},
   "source": [
    "#### Opis danych"
   ]
  },
  {
   "cell_type": "markdown",
   "metadata": {},
   "source": [
    "| pole               | opis | typ danych | \n",
    "|--------------------|------|------------|\n",
    "| `currSpeed`        | Przybliżona prędkość pojazdów w okolicy przystanku o id `stop` | `float16` |\n",
    "| `currTravelTime` | Przybliżony czas pokonania określonego odcinka drogi w pobliżu przystanku o id `stop` | `float16` |\n",
    "| `date` | Data (w formacie `datetime`) dokonania pomiaru | `datetime64` |\n",
    "| `delay` | Czas podawany w sekundach mówiący ile za wcześnie/ za późno na przystanek przyjechał autobus | `int16` |\n",
    "| `direction` | Kierunek trasy autobusu (A -> B lub B -> A) | `string` |\n",
    "| `patternText` | Identyfikator linii autobusowej, np. `139` | `int16`|\n",
    "| `routeId` | Identyfikator linii autobusowej z API | `int64` | \n",
    "| `stop` | Identyfikator przystanku autobusowego | `int16` |\n",
    "| `stopName` | Nazwa przystanku autobusowego | `string` |\n",
    "| `temp` | Temperatura powietrza w Krakowie, w chwilii dokonania pomiaru | `float32` |\n",
    "| `time` | Czas dokonania pomiaru w postaci `GG:MM` | `datetime.time` |\n",
    "| `tripId` | Identyfikator kursu autobusu na linii o danych `routeId` | `int64` |\n",
    "| `weather` | Opis aktualnej pogody w Krakowie, w chwilii dokonania pomiaru, np. `Rain` | `string` |\n",
    "| `weekday` | Dzień tygodnia (niedziela - `0`) | `int8` |"
   ]
  },
  {
   "cell_type": "code",
   "execution_count": 133,
   "metadata": {},
   "outputs": [
    {
     "data": {
      "text/html": [
       "<div>\n",
       "<style scoped>\n",
       "    .dataframe tbody tr th:only-of-type {\n",
       "        vertical-align: middle;\n",
       "    }\n",
       "\n",
       "    .dataframe tbody tr th {\n",
       "        vertical-align: top;\n",
       "    }\n",
       "\n",
       "    .dataframe thead th {\n",
       "        text-align: right;\n",
       "    }\n",
       "</style>\n",
       "<table border=\"1\" class=\"dataframe\">\n",
       "  <thead>\n",
       "    <tr style=\"text-align: right;\">\n",
       "      <th></th>\n",
       "      <th>count</th>\n",
       "      <th>mean</th>\n",
       "      <th>std</th>\n",
       "      <th>min</th>\n",
       "      <th>25%</th>\n",
       "      <th>50%</th>\n",
       "      <th>75%</th>\n",
       "      <th>max</th>\n",
       "      <th>dtype</th>\n",
       "    </tr>\n",
       "  </thead>\n",
       "  <tbody>\n",
       "    <tr>\n",
       "      <td>currSpeed</td>\n",
       "      <td>31275.0</td>\n",
       "      <td>inf</td>\n",
       "      <td>18.77</td>\n",
       "      <td>4.000000e+00</td>\n",
       "      <td>2.800000e+01</td>\n",
       "      <td>4.000000e+01</td>\n",
       "      <td>5.400000e+01</td>\n",
       "      <td>7.900000e+01</td>\n",
       "      <td>float16</td>\n",
       "    </tr>\n",
       "    <tr>\n",
       "      <td>currTravelTime</td>\n",
       "      <td>31275.0</td>\n",
       "      <td>inf</td>\n",
       "      <td>inf</td>\n",
       "      <td>7.000000e+00</td>\n",
       "      <td>3.200000e+01</td>\n",
       "      <td>5.600000e+01</td>\n",
       "      <td>9.100000e+01</td>\n",
       "      <td>7.720000e+02</td>\n",
       "      <td>float16</td>\n",
       "    </tr>\n",
       "    <tr>\n",
       "      <td>delay</td>\n",
       "      <td>31275.0</td>\n",
       "      <td>-8.269000e+01</td>\n",
       "      <td>78.19</td>\n",
       "      <td>-4.710000e+02</td>\n",
       "      <td>-1.400000e+02</td>\n",
       "      <td>-5.100000e+01</td>\n",
       "      <td>-2.000000e+01</td>\n",
       "      <td>2.900000e+01</td>\n",
       "      <td>int16</td>\n",
       "    </tr>\n",
       "    <tr>\n",
       "      <td>patternText</td>\n",
       "      <td>31275.0</td>\n",
       "      <td>1.390000e+02</td>\n",
       "      <td>0.00</td>\n",
       "      <td>1.390000e+02</td>\n",
       "      <td>1.390000e+02</td>\n",
       "      <td>1.390000e+02</td>\n",
       "      <td>1.390000e+02</td>\n",
       "      <td>1.390000e+02</td>\n",
       "      <td>int16</td>\n",
       "    </tr>\n",
       "    <tr>\n",
       "      <td>routeId</td>\n",
       "      <td>31275.0</td>\n",
       "      <td>8.095257e+18</td>\n",
       "      <td>0.00</td>\n",
       "      <td>8.095257e+18</td>\n",
       "      <td>8.095257e+18</td>\n",
       "      <td>8.095257e+18</td>\n",
       "      <td>8.095257e+18</td>\n",
       "      <td>8.095257e+18</td>\n",
       "      <td>int64</td>\n",
       "    </tr>\n",
       "    <tr>\n",
       "      <td>stop</td>\n",
       "      <td>31275.0</td>\n",
       "      <td>1.180810e+03</td>\n",
       "      <td>1231.38</td>\n",
       "      <td>5.000000e+00</td>\n",
       "      <td>1.080000e+02</td>\n",
       "      <td>4.170000e+02</td>\n",
       "      <td>2.533000e+03</td>\n",
       "      <td>3.459000e+03</td>\n",
       "      <td>int16</td>\n",
       "    </tr>\n",
       "    <tr>\n",
       "      <td>temp</td>\n",
       "      <td>31275.0</td>\n",
       "      <td>2.928600e+02</td>\n",
       "      <td>4.03</td>\n",
       "      <td>2.848900e+02</td>\n",
       "      <td>2.893200e+02</td>\n",
       "      <td>2.937700e+02</td>\n",
       "      <td>2.954500e+02</td>\n",
       "      <td>2.997600e+02</td>\n",
       "      <td>float32</td>\n",
       "    </tr>\n",
       "    <tr>\n",
       "      <td>tripId</td>\n",
       "      <td>31275.0</td>\n",
       "      <td>8.095261e+18</td>\n",
       "      <td>1851504.74</td>\n",
       "      <td>8.095261e+18</td>\n",
       "      <td>8.095261e+18</td>\n",
       "      <td>8.095261e+18</td>\n",
       "      <td>8.095261e+18</td>\n",
       "      <td>8.095261e+18</td>\n",
       "      <td>int64</td>\n",
       "    </tr>\n",
       "    <tr>\n",
       "      <td>weekday</td>\n",
       "      <td>31275.0</td>\n",
       "      <td>2.910000e+00</td>\n",
       "      <td>1.21</td>\n",
       "      <td>0.000000e+00</td>\n",
       "      <td>2.000000e+00</td>\n",
       "      <td>3.000000e+00</td>\n",
       "      <td>4.000000e+00</td>\n",
       "      <td>5.000000e+00</td>\n",
       "      <td>int8</td>\n",
       "    </tr>\n",
       "  </tbody>\n",
       "</table>\n",
       "</div>"
      ],
      "text/plain": [
       "                  count          mean         std           min           25%  \\\n",
       "currSpeed       31275.0           inf       18.77  4.000000e+00  2.800000e+01   \n",
       "currTravelTime  31275.0           inf         inf  7.000000e+00  3.200000e+01   \n",
       "delay           31275.0 -8.269000e+01       78.19 -4.710000e+02 -1.400000e+02   \n",
       "patternText     31275.0  1.390000e+02        0.00  1.390000e+02  1.390000e+02   \n",
       "routeId         31275.0  8.095257e+18        0.00  8.095257e+18  8.095257e+18   \n",
       "stop            31275.0  1.180810e+03     1231.38  5.000000e+00  1.080000e+02   \n",
       "temp            31275.0  2.928600e+02        4.03  2.848900e+02  2.893200e+02   \n",
       "tripId          31275.0  8.095261e+18  1851504.74  8.095261e+18  8.095261e+18   \n",
       "weekday         31275.0  2.910000e+00        1.21  0.000000e+00  2.000000e+00   \n",
       "\n",
       "                         50%           75%           max    dtype  \n",
       "currSpeed       4.000000e+01  5.400000e+01  7.900000e+01  float16  \n",
       "currTravelTime  5.600000e+01  9.100000e+01  7.720000e+02  float16  \n",
       "delay          -5.100000e+01 -2.000000e+01  2.900000e+01    int16  \n",
       "patternText     1.390000e+02  1.390000e+02  1.390000e+02    int16  \n",
       "routeId         8.095257e+18  8.095257e+18  8.095257e+18    int64  \n",
       "stop            4.170000e+02  2.533000e+03  3.459000e+03    int16  \n",
       "temp            2.937700e+02  2.954500e+02  2.997600e+02  float32  \n",
       "tripId          8.095261e+18  8.095261e+18  8.095261e+18    int64  \n",
       "weekday         3.000000e+00  4.000000e+00  5.000000e+00     int8  "
      ]
     },
     "execution_count": 133,
     "metadata": {},
     "output_type": "execute_result"
    }
   ],
   "source": [
    "data_stats(df)"
   ]
  },
  {
   "cell_type": "markdown",
   "metadata": {},
   "source": [
    "#### Histogram `delay` (przed i po czyszczeniu danych)"
   ]
  },
  {
   "cell_type": "code",
   "execution_count": 134,
   "metadata": {},
   "outputs": [
    {
     "data": {
      "image/png": "[encoded data removed]",
      "text/plain": [
       "<Figure size 864x576 with 1 Axes>"
      ]
     },
     "metadata": {
      "needs_background": "light"
     },
     "output_type": "display_data"
    }
   ],
   "source": [
    "histogram(df, columns=['delay'])"
   ]
  },
  {
   "cell_type": "markdown",
   "metadata": {},
   "source": [
    " "
   ]
  },
  {
   "cell_type": "code",
   "execution_count": 137,
   "metadata": {},
   "outputs": [
    {
     "data": {
      "image/png": "[encoded data removed]",
      "text/plain": [
       "<Figure size 864x576 with 1 Axes>"
      ]
     },
     "metadata": {
      "needs_background": "light"
     },
     "output_type": "display_data"
    }
   ],
   "source": [
    "df_without_outliners = remove_outliers(df, columns=['delay'], error_discriminator=1.2)\n",
    "histogram(df_without_outliners, columns=['delay'])"
   ]
  },
  {
   "cell_type": "code",
   "execution_count": null,
   "metadata": {},
   "outputs": [],
   "source": []
  },
  {
   "cell_type": "code",
   "execution_count": null,
   "metadata": {},
   "outputs": [],
   "source": []
  },
  {
   "cell_type": "code",
   "execution_count": 54,
   "metadata": {},
   "outputs": [
    {
     "data": {
      "text/plain": [
       "<matplotlib.axes._subplots.AxesSubplot at 0x7f8b85381350>"
      ]
     },
     "execution_count": 54,
     "metadata": {},
     "output_type": "execute_result"
    },
    {
     "data": {
      "image/png": "[encoded data removed]",
      "text/plain": [
       "<Figure size 1440x576 with 1 Axes>"
      ]
     },
     "metadata": {
      "needs_background": "light"
     },
     "output_type": "display_data"
    }
   ],
   "source": [
    "df.boxplot(by='stop', column=['delay'], figsize=(20,8))"
   ]
  },
  {
   "cell_type": "code",
   "execution_count": null,
   "metadata": {},
   "outputs": [],
   "source": []
  },
  {
   "cell_type": "code",
   "execution_count": 121,
   "metadata": {},
   "outputs": [
    {
     "data": {
      "text/html": [
       "<div>\n",
       "<style scoped>\n",
       "    .dataframe tbody tr th:only-of-type {\n",
       "        vertical-align: middle;\n",
       "    }\n",
       "\n",
       "    .dataframe tbody tr th {\n",
       "        vertical-align: top;\n",
       "    }\n",
       "\n",
       "    .dataframe thead th {\n",
       "        text-align: right;\n",
       "    }\n",
       "</style>\n",
       "<table border=\"1\" class=\"dataframe\">\n",
       "  <thead>\n",
       "    <tr style=\"text-align: right;\">\n",
       "      <th></th>\n",
       "      <th></th>\n",
       "      <th>currSpeed</th>\n",
       "      <th>currTravelTime</th>\n",
       "      <th>delay</th>\n",
       "      <th>patternText</th>\n",
       "      <th>routeId</th>\n",
       "      <th>stop</th>\n",
       "      <th>temp</th>\n",
       "      <th>tripId</th>\n",
       "    </tr>\n",
       "    <tr>\n",
       "      <th>stopName</th>\n",
       "      <th>weekday</th>\n",
       "      <th></th>\n",
       "      <th></th>\n",
       "      <th></th>\n",
       "      <th></th>\n",
       "      <th></th>\n",
       "      <th></th>\n",
       "      <th></th>\n",
       "      <th></th>\n",
       "    </tr>\n",
       "  </thead>\n",
       "  <tbody>\n",
       "    <tr>\n",
       "      <td rowspan=\"5\" valign=\"top\">Aleja Róż</td>\n",
       "      <td>0</td>\n",
       "      <td>52.00000</td>\n",
       "      <td>31.00000</td>\n",
       "      <td>-83.083333</td>\n",
       "      <td>139.0</td>\n",
       "      <td>8095257447305839616</td>\n",
       "      <td>416.0</td>\n",
       "      <td>293.726685</td>\n",
       "      <td>8095261304188122112</td>\n",
       "    </tr>\n",
       "    <tr>\n",
       "      <td>1</td>\n",
       "      <td>49.87500</td>\n",
       "      <td>33.28125</td>\n",
       "      <td>-73.093023</td>\n",
       "      <td>139.0</td>\n",
       "      <td>8095257447305839616</td>\n",
       "      <td>416.0</td>\n",
       "      <td>290.470459</td>\n",
       "      <td>8095261304188220416</td>\n",
       "    </tr>\n",
       "    <tr>\n",
       "      <td>2</td>\n",
       "      <td>45.25000</td>\n",
       "      <td>39.15625</td>\n",
       "      <td>-83.081967</td>\n",
       "      <td>139.0</td>\n",
       "      <td>8095257447305839616</td>\n",
       "      <td>416.0</td>\n",
       "      <td>292.733673</td>\n",
       "      <td>8095261304188154880</td>\n",
       "    </tr>\n",
       "    <tr>\n",
       "      <td>3</td>\n",
       "      <td>48.40625</td>\n",
       "      <td>34.09375</td>\n",
       "      <td>-69.513089</td>\n",
       "      <td>139.0</td>\n",
       "      <td>8095257447305839616</td>\n",
       "      <td>416.0</td>\n",
       "      <td>292.105957</td>\n",
       "      <td>8095261304188187648</td>\n",
       "    </tr>\n",
       "    <tr>\n",
       "      <td>4</td>\n",
       "      <td>45.96875</td>\n",
       "      <td>36.50000</td>\n",
       "      <td>-75.416667</td>\n",
       "      <td>139.0</td>\n",
       "      <td>8095257447305839616</td>\n",
       "      <td>416.0</td>\n",
       "      <td>294.170349</td>\n",
       "      <td>8095261304188169216</td>\n",
       "    </tr>\n",
       "    <tr>\n",
       "      <td>...</td>\n",
       "      <td>...</td>\n",
       "      <td>...</td>\n",
       "      <td>...</td>\n",
       "      <td>...</td>\n",
       "      <td>...</td>\n",
       "      <td>...</td>\n",
       "      <td>...</td>\n",
       "      <td>...</td>\n",
       "      <td>...</td>\n",
       "    </tr>\n",
       "    <tr>\n",
       "      <td rowspan=\"5\" valign=\"top\">Żeromskiego</td>\n",
       "      <td>1</td>\n",
       "      <td>49.43750</td>\n",
       "      <td>33.65625</td>\n",
       "      <td>-74.620690</td>\n",
       "      <td>139.0</td>\n",
       "      <td>8095257447305839616</td>\n",
       "      <td>417.0</td>\n",
       "      <td>290.459991</td>\n",
       "      <td>8095261304188221440</td>\n",
       "    </tr>\n",
       "    <tr>\n",
       "      <td>2</td>\n",
       "      <td>45.34375</td>\n",
       "      <td>39.40625</td>\n",
       "      <td>-81.134078</td>\n",
       "      <td>139.0</td>\n",
       "      <td>8095257447305839616</td>\n",
       "      <td>417.0</td>\n",
       "      <td>292.722229</td>\n",
       "      <td>8095261304188139520</td>\n",
       "    </tr>\n",
       "    <tr>\n",
       "      <td>3</td>\n",
       "      <td>48.06250</td>\n",
       "      <td>34.37500</td>\n",
       "      <td>-66.508021</td>\n",
       "      <td>139.0</td>\n",
       "      <td>8095257447305839616</td>\n",
       "      <td>417.0</td>\n",
       "      <td>292.058868</td>\n",
       "      <td>8095261304188201984</td>\n",
       "    </tr>\n",
       "    <tr>\n",
       "      <td>4</td>\n",
       "      <td>46.75000</td>\n",
       "      <td>35.90625</td>\n",
       "      <td>-79.424084</td>\n",
       "      <td>139.0</td>\n",
       "      <td>8095257447305839616</td>\n",
       "      <td>417.0</td>\n",
       "      <td>294.121094</td>\n",
       "      <td>8095261304188168192</td>\n",
       "    </tr>\n",
       "    <tr>\n",
       "      <td>5</td>\n",
       "      <td>50.59375</td>\n",
       "      <td>32.18750</td>\n",
       "      <td>-87.309524</td>\n",
       "      <td>139.0</td>\n",
       "      <td>8095257447305840640</td>\n",
       "      <td>417.0</td>\n",
       "      <td>295.056793</td>\n",
       "      <td>8095261304188412928</td>\n",
       "    </tr>\n",
       "  </tbody>\n",
       "</table>\n",
       "<p>264 rows × 8 columns</p>\n",
       "</div>"
      ],
      "text/plain": [
       "                     currSpeed  currTravelTime      delay  patternText  \\\n",
       "stopName    weekday                                                      \n",
       "Aleja Róż   0         52.00000        31.00000 -83.083333        139.0   \n",
       "            1         49.87500        33.28125 -73.093023        139.0   \n",
       "            2         45.25000        39.15625 -83.081967        139.0   \n",
       "            3         48.40625        34.09375 -69.513089        139.0   \n",
       "            4         45.96875        36.50000 -75.416667        139.0   \n",
       "...                        ...             ...        ...          ...   \n",
       "Żeromskiego 1         49.43750        33.65625 -74.620690        139.0   \n",
       "            2         45.34375        39.40625 -81.134078        139.0   \n",
       "            3         48.06250        34.37500 -66.508021        139.0   \n",
       "            4         46.75000        35.90625 -79.424084        139.0   \n",
       "            5         50.59375        32.18750 -87.309524        139.0   \n",
       "\n",
       "                                 routeId   stop        temp  \\\n",
       "stopName    weekday                                           \n",
       "Aleja Róż   0        8095257447305839616  416.0  293.726685   \n",
       "            1        8095257447305839616  416.0  290.470459   \n",
       "            2        8095257447305839616  416.0  292.733673   \n",
       "            3        8095257447305839616  416.0  292.105957   \n",
       "            4        8095257447305839616  416.0  294.170349   \n",
       "...                                  ...    ...         ...   \n",
       "Żeromskiego 1        8095257447305839616  417.0  290.459991   \n",
       "            2        8095257447305839616  417.0  292.722229   \n",
       "            3        8095257447305839616  417.0  292.058868   \n",
       "            4        8095257447305839616  417.0  294.121094   \n",
       "            5        8095257447305840640  417.0  295.056793   \n",
       "\n",
       "                                  tripId  \n",
       "stopName    weekday                       \n",
       "Aleja Róż   0        8095261304188122112  \n",
       "            1        8095261304188220416  \n",
       "            2        8095261304188154880  \n",
       "            3        8095261304188187648  \n",
       "            4        8095261304188169216  \n",
       "...                                  ...  \n",
       "Żeromskiego 1        8095261304188221440  \n",
       "            2        8095261304188139520  \n",
       "            3        8095261304188201984  \n",
       "            4        8095261304188168192  \n",
       "            5        8095261304188412928  \n",
       "\n",
       "[264 rows x 8 columns]"
      ]
     },
     "execution_count": 121,
     "metadata": {},
     "output_type": "execute_result"
    }
   ],
   "source": [
    "df.groupby(['stopName', 'weekday']).mean()"
   ]
  },
  {
   "cell_type": "code",
   "execution_count": null,
   "metadata": {},
   "outputs": [],
   "source": []
  },
  {
   "cell_type": "code",
   "execution_count": null,
   "metadata": {},
   "outputs": [],
   "source": []
  },
  {
   "cell_type": "code",
   "execution_count": null,
   "metadata": {},
   "outputs": [],
   "source": []
  },
  {
   "cell_type": "code",
   "execution_count": null,
   "metadata": {},
   "outputs": [],
   "source": []
  },
  {
   "cell_type": "code",
   "execution_count": null,
   "metadata": {},
   "outputs": [],
   "source": []
  },
  {
   "cell_type": "code",
   "execution_count": null,
   "metadata": {},
   "outputs": [],
   "source": []
  },
  {
   "cell_type": "code",
   "execution_count": null,
   "metadata": {},
   "outputs": [],
   "source": []
  },
  {
   "cell_type": "code",
   "execution_count": null,
   "metadata": {},
   "outputs": [],
   "source": []
  },
  {
   "cell_type": "code",
   "execution_count": null,
   "metadata": {},
   "outputs": [],
   "source": []
  },
  {
   "cell_type": "code",
   "execution_count": null,
   "metadata": {},
   "outputs": [],
   "source": []
  },
  {
   "cell_type": "code",
   "execution_count": null,
   "metadata": {},
   "outputs": [],
   "source": []
  },
  {
   "cell_type": "code",
   "execution_count": null,
   "metadata": {},
   "outputs": [],
   "source": []
  },
  {
   "cell_type": "code",
   "execution_count": null,
   "metadata": {},
   "outputs": [],
   "source": []
  }
 ],
 "metadata": {
  "kernelspec": {
   "display_name": "Python 3",
   "language": "python",
   "name": "python3"
  },
  "language_info": {
   "codemirror_mode": {
    "name": "ipython",
    "version": 3
   },
   "file_extension": ".py",
   "mimetype": "text/x-python",
   "name": "python",
   "nbconvert_exporter": "python",
   "pygments_lexer": "ipython3",
   "version": "3.7.4"
  }
 },
 "nbformat": 4,
 "nbformat_minor": 4
}
